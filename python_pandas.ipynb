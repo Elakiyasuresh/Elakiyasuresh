{
  "nbformat": 4,
  "nbformat_minor": 0,
  "metadata": {
    "colab": {
      "provenance": [],
      "authorship_tag": "ABX9TyMA9bEF10XumePdd2aeF6GL",
      "include_colab_link": true
    },
    "kernelspec": {
      "name": "python3",
      "display_name": "Python 3"
    },
    "language_info": {
      "name": "python"
    }
  },
  "cells": [
    {
      "cell_type": "markdown",
      "metadata": {
        "id": "view-in-github",
        "colab_type": "text"
      },
      "source": [
        "<a href=\"https://colab.research.google.com/github/Elakiyasuresh/Elakiyasuresh/blob/main/python_pandas.ipynb\" target=\"_parent\"><img src=\"https://colab.research.google.com/assets/colab-badge.svg\" alt=\"Open In Colab\"/></a>"
      ]
    },
    {
      "cell_type": "code",
      "execution_count": null,
      "metadata": {
        "colab": {
          "base_uri": "https://localhost:8080/"
        },
        "id": "whXzrayUCWs5",
        "outputId": "94ae2547-fc92-4042-ee61-d5995e534552"
      },
      "outputs": [
        {
          "output_type": "stream",
          "name": "stdout",
          "text": [
            "0    1\n",
            "1    2\n",
            "2    3\n",
            "dtype: int64\n"
          ]
        }
      ],
      "source": [
        "#python pandas practices\n",
        "#pandas series\n",
        "#pandas series is a one diamensional array and holding any type of data\n",
        "import pandas as pd\n",
        "a=[1,2,3]\n",
        "df=pd.Series(a)\n",
        "print(df)"
      ]
    },
    {
      "cell_type": "markdown",
      "source": [
        "labels are used to access  the elaments in very quicky."
      ],
      "metadata": {
        "id": "gJwwG5hNEtS6"
      }
    },
    {
      "cell_type": "code",
      "source": [
        "# here 0 1 2 are called as labels so , in pandas to spesify the label use \"index\" key word\n",
        "import pandas as pd\n",
        "a=[1,2,3]\n",
        "df=pd.Series(a,index=[\"n1\",\"n2\",\"n3\"])\n",
        "print(df)\n"
      ],
      "metadata": {
        "colab": {
          "base_uri": "https://localhost:8080/"
        },
        "id": "z_ctynp4DsRP",
        "outputId": "2f58635e-ec03-45e9-a9e5-5e2638daf6c1"
      },
      "execution_count": null,
      "outputs": [
        {
          "output_type": "stream",
          "name": "stdout",
          "text": [
            "n1    1\n",
            "n2    2\n",
            "n3    3\n",
            "dtype: int64\n"
          ]
        }
      ]
    },
    {
      "cell_type": "markdown",
      "source": [
        "To give name to the column, we can use \"name\" parameter. name parameter will be entire series name"
      ],
      "metadata": {
        "id": "AmFsxo14rg5I"
      }
    },
    {
      "cell_type": "code",
      "source": [
        "import pandas as pd\n",
        "a=[1,2,3,]\n",
        "df=pd.Series(a,index=[\"n1\",\"n2\",\"n3\"], name='Numbers')\n",
        "print(df)"
      ],
      "metadata": {
        "colab": {
          "base_uri": "https://localhost:8080/"
        },
        "id": "qoaIvsajrv1J",
        "outputId": "90df4a66-1e8f-4ae0-b6d9-8d14fa8887a4"
      },
      "execution_count": null,
      "outputs": [
        {
          "output_type": "stream",
          "name": "stdout",
          "text": [
            "n1    1\n",
            "n2    2\n",
            "n3    3\n",
            "Name: Numbers, dtype: int64\n"
          ]
        }
      ]
    },
    {
      "cell_type": "markdown",
      "source": [
        "if we want any specified index from series data then we can use :"
      ],
      "metadata": {
        "id": "VmHfefOVE7AI"
      }
    },
    {
      "cell_type": "code",
      "source": [
        "import pandas as pd\n",
        "a=[1,2,3]\n",
        "df=pd.Series(a,index=[\"n1\",\"n2\",\"n3\"])\n",
        "print(df[\"n1\"])"
      ],
      "metadata": {
        "colab": {
          "base_uri": "https://localhost:8080/"
        },
        "id": "3TAAfjfZFMm6",
        "outputId": "544fdfa8-520d-4ad8-ad94-2c28505c52fc"
      },
      "execution_count": null,
      "outputs": [
        {
          "output_type": "stream",
          "name": "stdout",
          "text": [
            "1\n"
          ]
        }
      ]
    },
    {
      "cell_type": "markdown",
      "source": [
        "key and value object series in panadas works as dictionary\n",
        "for example:"
      ],
      "metadata": {
        "id": "Y44-dHrKFv4J"
      }
    },
    {
      "cell_type": "code",
      "source": [
        "# take age of 2 persons\n",
        "import pandas as pd\n",
        "a={\"person1\":21,\"person2\":26}\n",
        "df=pd.Series(a)\n",
        "print(df)\n"
      ],
      "metadata": {
        "colab": {
          "base_uri": "https://localhost:8080/"
        },
        "id": "5maI6uVkGDuv",
        "outputId": "f34d53e0-c59d-41ac-954a-8eba5738dafb"
      },
      "execution_count": null,
      "outputs": [
        {
          "output_type": "stream",
          "name": "stdout",
          "text": [
            "person1    21\n",
            "person2    26\n",
            "dtype: int64\n"
          ]
        }
      ]
    },
    {
      "cell_type": "markdown",
      "source": [
        "While using the key and value object series, we can't change the row and can't get any specific values, therefore we can use the index method to rectify."
      ],
      "metadata": {
        "id": "CEQcaOz3H7NV"
      }
    },
    {
      "cell_type": "code",
      "source": [
        "#to get specific key and value\n",
        "import pandas as pd\n",
        "a={\"person1\":21,\"person2\":26}\n",
        "df=pd.Series(a,index=[\"person1\"])\n",
        "print(df)"
      ],
      "metadata": {
        "colab": {
          "base_uri": "https://localhost:8080/"
        },
        "id": "5eX0W3ZDIkpn",
        "outputId": "84f1013e-ace0-4a74-92e1-b811f802655b"
      },
      "execution_count": null,
      "outputs": [
        {
          "output_type": "stream",
          "name": "stdout",
          "text": [
            "person1    21\n",
            "dtype: int64\n"
          ]
        }
      ]
    },
    {
      "cell_type": "code",
      "source": [
        "# to update the row\n",
        "import pandas as pd\n",
        "a={\"person1\":21,\"person2\":26}\n",
        "df[\"person1\"]=30\n",
        "print(df)\n"
      ],
      "metadata": {
        "colab": {
          "base_uri": "https://localhost:8080/"
        },
        "id": "bOh3mGzUJWkl",
        "outputId": "e6cfbc9f-4d6b-4727-8459-d8f9ff880bf8"
      },
      "execution_count": null,
      "outputs": [
        {
          "output_type": "stream",
          "name": "stdout",
          "text": [
            "person1    30\n",
            "dtype: int64\n"
          ]
        }
      ]
    },
    {
      "cell_type": "markdown",
      "source": [
        "PANDAS DATA FRAME: pandas data frame is a 2 diamentional array like row and cloumn"
      ],
      "metadata": {
        "id": "gkznG9YnPXDc"
      }
    },
    {
      "cell_type": "code",
      "source": [
        "import pandas as pd\n",
        "a={\n",
        "    \"person name\":[\"elakiya\", \"ramya\", \"karthick\",\"krishna yadav\"],\n",
        "    \"age\":[21,22,21,20]\n",
        "}\n",
        "df=pd.DataFrame(a)\n",
        "print(df)"
      ],
      "metadata": {
        "colab": {
          "base_uri": "https://localhost:8080/"
        },
        "id": "-FyDf_ZSP871",
        "outputId": "deca3517-e4bd-46c1-8495-e6e280260bc6"
      },
      "execution_count": null,
      "outputs": [
        {
          "output_type": "stream",
          "name": "stdout",
          "text": [
            "     person name  age\n",
            "0        elakiya   21\n",
            "1          ramya   22\n",
            "2       karthick   21\n",
            "3  krishna yadav   20\n"
          ]
        }
      ]
    },
    {
      "cell_type": "markdown",
      "source": [
        "Different between series and data frame\n",
        "\n",
        "1.   series: its a one diamensional array so we can use this only as cloums\n",
        "2.   Data Frame: its a two diamensional array we can use this as tables\n",
        "\n"
      ],
      "metadata": {
        "id": "haao9sMVRVzU"
      }
    },
    {
      "cell_type": "markdown",
      "source": [
        "from series we can change the laabels by using  \"indes\" parameter . so try to change the label from dataframe example\n"
      ],
      "metadata": {
        "id": "w1CTxknXR5zM"
      }
    },
    {
      "cell_type": "code",
      "source": [
        "import pandas as pd\n",
        "a={\n",
        "    \"person name\":[\"elakiya\",\"ramya\",\"karthick\",\"krishna yadav\"],\n",
        "    \"age\":[21,22,21,20]\n",
        "}\n",
        "df=pd.DataFrame(a,index=[1,2,3,4])\n",
        "print(df)"
      ],
      "metadata": {
        "colab": {
          "base_uri": "https://localhost:8080/"
        },
        "id": "7kSVrG7VSY1E",
        "outputId": "a1b3993f-b48a-4c27-8e54-982448e7b3c9"
      },
      "execution_count": null,
      "outputs": [
        {
          "output_type": "stream",
          "name": "stdout",
          "text": [
            "     person name  age\n",
            "1        elakiya   21\n",
            "2          ramya   22\n",
            "3       karthick   21\n",
            "4  krishna yadav   20\n"
          ]
        }
      ]
    },
    {
      "cell_type": "markdown",
      "source": [
        "To get a specific row and column, we use the \"loc[]\" parameter in pandas"
      ],
      "metadata": {
        "id": "drpbkpRngopy"
      }
    },
    {
      "cell_type": "code",
      "source": [
        "import pandas as pd\n",
        "a={\n",
        "    \"person name\":[\"elakiya\",\"ramya\",\"karthick\",\"krishna yadav\"],\n",
        "    \"age\":[21,22,21,20]\n",
        "}\n",
        "df=pd.DataFrame(a,index=[1,2,3,4])\n",
        "print(df.loc[4])"
      ],
      "metadata": {
        "colab": {
          "base_uri": "https://localhost:8080/"
        },
        "id": "Inidr8q6hDHL",
        "outputId": "140aabda-7ffe-416b-b47a-ebabdb2fedb3"
      },
      "execution_count": null,
      "outputs": [
        {
          "output_type": "stream",
          "name": "stdout",
          "text": [
            "person name    krishna yadav\n",
            "age                       20\n",
            "Name: 4, dtype: object\n"
          ]
        }
      ]
    },
    {
      "cell_type": "markdown",
      "source": [
        "to get selected values with index :"
      ],
      "metadata": {
        "id": "5OKmIFR7jKGD"
      }
    },
    {
      "cell_type": "code",
      "source": [
        "import pandas as pd\n",
        "a={\n",
        "    \"person name\":[\"elakiya\",\"ramya\",\"karthick\",\"krishna yadav\"],\n",
        "    \"age\":[21,22,21,20]\n",
        "}\n",
        "df=pd.DataFrame(a,index=[1,2,3,4])\n",
        "print(df.loc[[4]])\n",
        "#print(df.loc[[4,4]]) this give spesific answer twice\n",
        "#output:\n",
        "#     person name    age\n",
        "# 4   krishnayadav    20\n",
        "# 4   krishna yadav   20"
      ],
      "metadata": {
        "colab": {
          "base_uri": "https://localhost:8080/"
        },
        "id": "LhiS51Aaj9z5",
        "outputId": "bb962d96-06f1-4685-c5d0-34f050466ef4"
      },
      "execution_count": null,
      "outputs": [
        {
          "output_type": "stream",
          "name": "stdout",
          "text": [
            "     person name  age\n",
            "4  krishna yadav   20\n"
          ]
        }
      ]
    },
    {
      "cell_type": "markdown",
      "source": [
        "the name parameter only fpr series so if we want give name for Dataframe we need to give manually for example:"
      ],
      "metadata": {
        "id": "3Iq_CdXyt1xz"
      }
    },
    {
      "cell_type": "code",
      "source": [
        "import pandas as pd\n",
        "a={\n",
        "    \"person name\":[\"elakiya\",\"ramya\",\"karthick\",\"krishna yadav\"],\n",
        "    \"age\":[21,22,21,20]\n",
        "}\n",
        "df=pd.DataFrame(a,index=[1,2,3,4])\n",
        "df.name=\"closed person\" # By using this we can add the name manually in Dataframe\n",
        "print(df)\n",
        "print(\"DataFrame name:\", df.name)"
      ],
      "metadata": {
        "colab": {
          "base_uri": "https://localhost:8080/"
        },
        "id": "tHfpvSRIuJPV",
        "outputId": "4f61ebb3-7ead-46f8-9f14-76b5d6e87a5d"
      },
      "execution_count": null,
      "outputs": [
        {
          "output_type": "stream",
          "name": "stdout",
          "text": [
            "     person name  age\n",
            "1        elakiya   21\n",
            "2          ramya   22\n",
            "3       karthick   21\n",
            "4  krishna yadav   20\n",
            "DataFrame name: closed person\n"
          ]
        }
      ]
    },
    {
      "cell_type": "markdown",
      "source": [
        "Conversion of series to dataframe :"
      ],
      "metadata": {
        "id": "hDKHi5HAv0f8"
      }
    },
    {
      "cell_type": "code",
      "source": [
        "import pandas as pd\n",
        "a=[1,2,3,]\n",
        "s=pd.Series(a,index=[\"n1\",\"n2\",\"n3\"], name='Numbers')\n",
        "df = s.to_frame()\n",
        "print(df)"
      ],
      "metadata": {
        "colab": {
          "base_uri": "https://localhost:8080/"
        },
        "id": "n8R5E6ZYv6WW",
        "outputId": "f142b8eb-cca4-49e2-e75d-f8980673a2c6"
      },
      "execution_count": null,
      "outputs": [
        {
          "output_type": "stream",
          "name": "stdout",
          "text": [
            "    Numbers\n",
            "n1        1\n",
            "n2        2\n",
            "n3        3\n"
          ]
        }
      ]
    },
    {
      "cell_type": "markdown",
      "source": [
        "Reading CSV  file (comma-separated value file):"
      ],
      "metadata": {
        "id": "eO1c5JWQm2Ze"
      }
    },
    {
      "cell_type": "markdown",
      "source": [
        "when using \"print(df)\" can return the top 10 data only while handling massive amount of data. so we should use the \"to_string()\"\n",
        "\n",
        "---for example:\n",
        "\n"
      ],
      "metadata": {
        "id": "6hFgJGn-fSW7"
      }
    },
    {
      "cell_type": "code",
      "source": [
        "import pandas as pd\n",
        "df=pd.read_csv('data.csv')\n",
        "print(df)"
      ],
      "metadata": {
        "colab": {
          "base_uri": "https://localhost:8080/"
        },
        "id": "dyCR-ipkgHW3",
        "outputId": "502156af-7cf1-46d2-88fd-65f86e4ddd6f"
      },
      "execution_count": null,
      "outputs": [
        {
          "output_type": "stream",
          "name": "stdout",
          "text": [
            "     Duration  Pulse  Maxpulse  Calories\n",
            "0          60    110       130     409.1\n",
            "1          60    117       145     479.0\n",
            "2          60    103       135     340.0\n",
            "3          45    109       175     282.4\n",
            "4          45    117       148     406.0\n",
            "..        ...    ...       ...       ...\n",
            "164        60    105       140     290.8\n",
            "165        60    110       145     300.0\n",
            "166        60    115       145     310.2\n",
            "167        75    120       150     320.4\n",
            "168        75    125       150     330.4\n",
            "\n",
            "[169 rows x 4 columns]\n"
          ]
        }
      ]
    },
    {
      "cell_type": "code",
      "source": [
        "import pandas as pd\n",
        "df=pd.read_csv('posts.csv')\n",
        "print(df.to_string())"
      ],
      "metadata": {
        "colab": {
          "base_uri": "https://localhost:8080/"
        },
        "id": "9Fm954VDiP8X",
        "outputId": "0c6f710b-f35f-4a63-b827-a548e14a3c12"
      },
      "execution_count": null,
      "outputs": [
        {
          "output_type": "stream",
          "name": "stdout",
          "text": [
            "    Post_id Post_Type  comments  likes\n",
            "0       101  Carousel       268  16382\n",
            "1       102      Reel       138   9267\n",
            "2       103      Reel      1089  10100\n",
            "3       104      Reel       271   6943\n",
            "4       105      Reel       145  17158\n",
            "5       106      Reel       143   9683\n",
            "6       104      Reel       271   6943\n",
            "7       107      Reel       132   4287\n",
            "8       108      Reel       128   7484\n",
            "9       109      Reel       884  48528\n",
            "10      104      Reel       271   6943\n",
            "11      110      Reel        98   6754\n",
            "12      111     Image         1    160\n",
            "13      112  Carousel         6    907\n",
            "14      113  Carousel        58   1792\n",
            "15      114  Carousel         1    336\n",
            "16      115  Carousel         5    668\n",
            "17      111     Image         1    160\n",
            "18      116  Carousel         6    492\n",
            "19      117     Image        22   1473\n",
            "20      118  Carousel         4    252\n",
            "21      119     Image        84   4421\n",
            "22      120  Carousel         1    292\n",
            "23      121     Image        10    616\n",
            "24      121     Image        10    616\n",
            "25      122     Image       387  50523\n",
            "26      123      Reel       555  48889\n",
            "27      124  Carousel       164  23687\n",
            "28      125  Carousel       466  79000\n",
            "29      126      Reel       274  27814\n",
            "30      127     Image       208  45416\n",
            "31      128     Image       431  42470\n",
            "32      130  Carousel       287  34232\n",
            "33      131  Carousel       507  59716\n",
            "34      132     Image       272  53254\n",
            "35      133  Carousel       413  58485\n",
            "36      134  Carousel       254  15159\n",
            "37      135      Reel        35   1399\n",
            "38      136     Image        87   4866\n",
            "39      101  Carousel       268  16382\n"
          ]
        }
      ]
    },
    {
      "cell_type": "markdown",
      "source": [
        "Max_rows: In pandas \"options.display.max_rows\" this attribute used to return the number of max row. in additionally 60 data is most of tyhe system limit. in case we need check more than 60 data we need to change the max row data count\n",
        "\n",
        "---  for example\n",
        "\n"
      ],
      "metadata": {
        "id": "5JQw5hyPkKpf"
      }
    },
    {
      "cell_type": "code",
      "source": [
        "import pandas as pd\n",
        "pd.options.display.max_rows=999\n",
        "df=pd.read_csv('data.csv')\n",
        "print(df)"
      ],
      "metadata": {
        "colab": {
          "base_uri": "https://localhost:8080/"
        },
        "id": "v2IInO2CmHTM",
        "outputId": "8d9e2ea8-10ee-4a64-d2d5-992309ac032e"
      },
      "execution_count": null,
      "outputs": [
        {
          "output_type": "stream",
          "name": "stdout",
          "text": [
            "     Duration  Pulse  Maxpulse  Calories\n",
            "0          60    110       130     409.1\n",
            "1          60    117       145     479.0\n",
            "2          60    103       135     340.0\n",
            "3          45    109       175     282.4\n",
            "4          45    117       148     406.0\n",
            "5          60    102       127     300.0\n",
            "6          60    110       136     374.0\n",
            "7          45    104       134     253.3\n",
            "8          30    109       133     195.1\n",
            "9          60     98       124     269.0\n",
            "10         60    103       147     329.3\n",
            "11         60    100       120     250.7\n",
            "12         60    106       128     345.3\n",
            "13         60    104       132     379.3\n",
            "14         60     98       123     275.0\n",
            "15         60     98       120     215.2\n",
            "16         60    100       120     300.0\n",
            "17         45     90       112       NaN\n",
            "18         60    103       123     323.0\n",
            "19         45     97       125     243.0\n",
            "20         60    108       131     364.2\n",
            "21         45    100       119     282.0\n",
            "22         60    130       101     300.0\n",
            "23         45    105       132     246.0\n",
            "24         60    102       126     334.5\n",
            "25         60    100       120     250.0\n",
            "26         60     92       118     241.0\n",
            "27         60    103       132       NaN\n",
            "28         60    100       132     280.0\n",
            "29         60    102       129     380.3\n",
            "30         60     92       115     243.0\n",
            "31         45     90       112     180.1\n",
            "32         60    101       124     299.0\n",
            "33         60     93       113     223.0\n",
            "34         60    107       136     361.0\n",
            "35         60    114       140     415.0\n",
            "36         60    102       127     300.0\n",
            "37         60    100       120     300.0\n",
            "38         60    100       120     300.0\n",
            "39         45    104       129     266.0\n",
            "40         45     90       112     180.1\n",
            "41         60     98       126     286.0\n",
            "42         60    100       122     329.4\n",
            "43         60    111       138     400.0\n",
            "44         60    111       131     397.0\n",
            "45         60     99       119     273.0\n",
            "46         60    109       153     387.6\n",
            "47         45    111       136     300.0\n",
            "48         45    108       129     298.0\n",
            "49         60    111       139     397.6\n",
            "50         60    107       136     380.2\n",
            "51         80    123       146     643.1\n",
            "52         60    106       130     263.0\n",
            "53         60    118       151     486.0\n",
            "54         30    136       175     238.0\n",
            "55         60    121       146     450.7\n",
            "56         60    118       121     413.0\n",
            "57         45    115       144     305.0\n",
            "58         20    153       172     226.4\n",
            "59         45    123       152     321.0\n",
            "60        210    108       160    1376.0\n",
            "61        160    110       137    1034.4\n",
            "62        160    109       135     853.0\n",
            "63         45    118       141     341.0\n",
            "64         20    110       130     131.4\n",
            "65        180     90       130     800.4\n",
            "66        150    105       135     873.4\n",
            "67        150    107       130     816.0\n",
            "68         20    106       136     110.4\n",
            "69        300    108       143    1500.2\n",
            "70        150     97       129    1115.0\n",
            "71         60    109       153     387.6\n",
            "72         90    100       127     700.0\n",
            "73        150     97       127     953.2\n",
            "74         45    114       146     304.0\n",
            "75         90     98       125     563.2\n",
            "76         45    105       134     251.0\n",
            "77         45    110       141     300.0\n",
            "78        120    100       130     500.4\n",
            "79        270    100       131    1729.0\n",
            "80         30    159       182     319.2\n",
            "81         45    149       169     344.0\n",
            "82         30    103       139     151.1\n",
            "83        120    100       130     500.0\n",
            "84         45    100       120     225.3\n",
            "85         30    151       170     300.0\n",
            "86         45    102       136     234.0\n",
            "87        120    100       157    1000.1\n",
            "88         45    129       103     242.0\n",
            "89         20     83       107      50.3\n",
            "90        180    101       127     600.1\n",
            "91         45    107       137       NaN\n",
            "92         30     90       107     105.3\n",
            "93         15     80       100      50.5\n",
            "94         20    150       171     127.4\n",
            "95         20    151       168     229.4\n",
            "96         30     95       128     128.2\n",
            "97         25    152       168     244.2\n",
            "98         30    109       131     188.2\n",
            "99         90     93       124     604.1\n",
            "100        20     95       112      77.7\n",
            "101        90     90       110     500.0\n",
            "102        90     90       100     500.0\n",
            "103        90     90       100     500.4\n",
            "104        30     92       108      92.7\n",
            "105        30     93       128     124.0\n",
            "106       180     90       120     800.3\n",
            "107        30     90       120      86.2\n",
            "108        90     90       120     500.3\n",
            "109       210    137       184    1860.4\n",
            "110        60    102       124     325.2\n",
            "111        45    107       124     275.0\n",
            "112        15    124       139     124.2\n",
            "113        45    100       120     225.3\n",
            "114        60    108       131     367.6\n",
            "115        60    108       151     351.7\n",
            "116        60    116       141     443.0\n",
            "117        60     97       122     277.4\n",
            "118        60    105       125       NaN\n",
            "119        60    103       124     332.7\n",
            "120        30    112       137     193.9\n",
            "121        45    100       120     100.7\n",
            "122        60    119       169     336.7\n",
            "123        60    107       127     344.9\n",
            "124        60    111       151     368.5\n",
            "125        60     98       122     271.0\n",
            "126        60     97       124     275.3\n",
            "127        60    109       127     382.0\n",
            "128        90     99       125     466.4\n",
            "129        60    114       151     384.0\n",
            "130        60    104       134     342.5\n",
            "131        60    107       138     357.5\n",
            "132        60    103       133     335.0\n",
            "133        60    106       132     327.5\n",
            "134        60    103       136     339.0\n",
            "135        20    136       156     189.0\n",
            "136        45    117       143     317.7\n",
            "137        45    115       137     318.0\n",
            "138        45    113       138     308.0\n",
            "139        20    141       162     222.4\n",
            "140        60    108       135     390.0\n",
            "141        60     97       127       NaN\n",
            "142        45    100       120     250.4\n",
            "143        45    122       149     335.4\n",
            "144        60    136       170     470.2\n",
            "145        45    106       126     270.8\n",
            "146        60    107       136     400.0\n",
            "147        60    112       146     361.9\n",
            "148        30    103       127     185.0\n",
            "149        60    110       150     409.4\n",
            "150        60    106       134     343.0\n",
            "151        60    109       129     353.2\n",
            "152        60    109       138     374.0\n",
            "153        30    150       167     275.8\n",
            "154        60    105       128     328.0\n",
            "155        60    111       151     368.5\n",
            "156        60     97       131     270.4\n",
            "157        60    100       120     270.4\n",
            "158        60    114       150     382.8\n",
            "159        30     80       120     240.9\n",
            "160        30     85       120     250.4\n",
            "161        45     90       130     260.4\n",
            "162        45     95       130     270.0\n",
            "163        45    100       140     280.9\n",
            "164        60    105       140     290.8\n",
            "165        60    110       145     300.0\n",
            "166        60    115       145     310.2\n",
            "167        75    120       150     320.4\n",
            "168        75    125       150     330.4\n"
          ]
        }
      ]
    },
    {
      "cell_type": "markdown",
      "source": [
        "Shape : this attribute used to find the diamension of DataFrame or Series\n",
        "it shows how many no.of rows and columns is avalible\n",
        "--- for example\n",
        "\n"
      ],
      "metadata": {
        "id": "mXz_S3smnoyB"
      }
    },
    {
      "cell_type": "code",
      "source": [
        "import pandas as pd\n",
        "df=pd.read_csv('data.csv')# if we need to read json file , we should use read_json insted of csv\n",
        "print(df.shape)"
      ],
      "metadata": {
        "colab": {
          "base_uri": "https://localhost:8080/"
        },
        "id": "SNhb0cA6ppTO",
        "outputId": "f56df3bf-8572-447e-a5b5-aedd5f4ae0c6"
      },
      "execution_count": null,
      "outputs": [
        {
          "output_type": "stream",
          "name": "stdout",
          "text": [
            "(169, 4)\n"
          ]
        }
      ]
    },
    {
      "cell_type": "markdown",
      "source": [
        "Analysing data in pandas :\n",
        "\n",
        "\n",
        "1. Viewing data: viewing data is crucial step while analsying the data so we two method for quick view of data\n",
        "  * head(): this method will showing of beggining of data\n",
        "  * tail(): this method will showing of end of the data\n",
        "\n",
        "--- for example:\n",
        "\n",
        "\n",
        "\n",
        "\n",
        "\n"
      ],
      "metadata": {
        "id": "xgPl1gVIBUWV"
      }
    },
    {
      "cell_type": "code",
      "source": [
        "# using head() method\n",
        "import pandas as pd\n",
        "df=pd.read_csv('data.csv')\n",
        "print(df.head(10))"
      ],
      "metadata": {
        "colab": {
          "base_uri": "https://localhost:8080/"
        },
        "id": "Qi4G6QXzJ-UA",
        "outputId": "81959c4e-b616-487a-8b17-17ab9bdc8760"
      },
      "execution_count": null,
      "outputs": [
        {
          "output_type": "stream",
          "name": "stdout",
          "text": [
            "   Duration  Pulse  Maxpulse  Calories\n",
            "0        60    110       130     409.1\n",
            "1        60    117       145     479.0\n",
            "2        60    103       135     340.0\n",
            "3        45    109       175     282.4\n",
            "4        45    117       148     406.0\n",
            "5        60    102       127     300.0\n",
            "6        60    110       136     374.0\n",
            "7        45    104       134     253.3\n",
            "8        30    109       133     195.1\n",
            "9        60     98       124     269.0\n"
          ]
        }
      ]
    },
    {
      "cell_type": "code",
      "source": [
        "#using tail() method\n",
        "import pandas as pd\n",
        "df=pd.read_csv('data.csv')\n",
        "print(df.tail(10))"
      ],
      "metadata": {
        "colab": {
          "base_uri": "https://localhost:8080/"
        },
        "id": "KjFhzr2aKioc",
        "outputId": "350d66e2-e7a7-4d80-e778-c471203a7de7"
      },
      "execution_count": null,
      "outputs": [
        {
          "output_type": "stream",
          "name": "stdout",
          "text": [
            "     Duration  Pulse  Maxpulse  Calories\n",
            "159        30     80       120     240.9\n",
            "160        30     85       120     250.4\n",
            "161        45     90       130     260.4\n",
            "162        45     95       130     270.0\n",
            "163        45    100       140     280.9\n",
            "164        60    105       140     290.8\n",
            "165        60    110       145     300.0\n",
            "166        60    115       145     310.2\n",
            "167        75    120       150     320.4\n",
            "168        75    125       150     330.4\n"
          ]
        }
      ]
    },
    {
      "cell_type": "markdown",
      "source": [
        "to get information about the data we use \"info()\" attribute\n",
        "\n",
        "---for example:\n",
        "\n"
      ],
      "metadata": {
        "id": "WFv_Qn7XLPpJ"
      }
    },
    {
      "cell_type": "code",
      "source": [
        "import pandas as pd\n",
        "df=pd.read_csv('data.csv')\n",
        "print(df.info())"
      ],
      "metadata": {
        "colab": {
          "base_uri": "https://localhost:8080/"
        },
        "id": "FuNNBC0dLc3R",
        "outputId": "d2dff626-7a89-456e-85eb-cb577187b84d"
      },
      "execution_count": null,
      "outputs": [
        {
          "output_type": "stream",
          "name": "stdout",
          "text": [
            "<class 'pandas.core.frame.DataFrame'>\n",
            "RangeIndex: 169 entries, 0 to 168\n",
            "Data columns (total 4 columns):\n",
            " #   Column    Non-Null Count  Dtype  \n",
            "---  ------    --------------  -----  \n",
            " 0   Duration  169 non-null    int64  \n",
            " 1   Pulse     169 non-null    int64  \n",
            " 2   Maxpulse  169 non-null    int64  \n",
            " 3   Calories  164 non-null    float64\n",
            "dtypes: float64(1), int64(3)\n",
            "memory usage: 5.4 KB\n",
            "None\n"
          ]
        }
      ]
    },
    {
      "cell_type": "markdown",
      "source": [
        "2 Cleaning the data also crucial step while handling the data, steps in cleaning data:\n",
        "\n",
        "1.cleaning empty cells\n",
        "2.cleaning wrong format\n",
        "3.cleaning wrong data\n",
        "4.removing duplicate data\n",
        "\n",
        "\n",
        "\n",
        "\n",
        "\n",
        "\n",
        "\n",
        "\n"
      ],
      "metadata": {
        "id": "Rn54IiiSNLci"
      }
    },
    {
      "cell_type": "markdown",
      "source": [
        "to check empty cells: use (isnull().sum()) attribute:\n"
      ],
      "metadata": {
        "id": "1T9-1Je7a-S8"
      }
    },
    {
      "cell_type": "code",
      "source": [
        "import pandas as pd\n",
        "df=pd.read_csv('data.csv')\n",
        "print(df.isnull().sum())"
      ],
      "metadata": {
        "colab": {
          "base_uri": "https://localhost:8080/"
        },
        "id": "CLFQ_fekbNdA",
        "outputId": "4316bd58-600f-4fb7-9f6e-50277449d546"
      },
      "execution_count": 2,
      "outputs": [
        {
          "output_type": "stream",
          "name": "stdout",
          "text": [
            "Duration    0\n",
            "Pulse       0\n",
            "Maxpulse    0\n",
            "Calories    5\n",
            "dtype: int64\n"
          ]
        }
      ]
    },
    {
      "cell_type": "code",
      "source": [
        "# Cleaning empty cells\n",
        "import pandas as pd\n",
        "df=pd.read_csv('data.csv')\n",
        "new_df=df.dropna()\n",
        "print(new_df.to_string())"
      ],
      "metadata": {
        "colab": {
          "base_uri": "https://localhost:8080/"
        },
        "id": "Ol8Q3jjfN5_0",
        "outputId": "50394307-a1bb-4a75-bdfb-635b604571e0"
      },
      "execution_count": null,
      "outputs": [
        {
          "output_type": "stream",
          "name": "stdout",
          "text": [
            "     Duration  Pulse  Maxpulse  Calories\n",
            "0          60    110       130     409.1\n",
            "1          60    117       145     479.0\n",
            "2          60    103       135     340.0\n",
            "3          45    109       175     282.4\n",
            "4          45    117       148     406.0\n",
            "5          60    102       127     300.0\n",
            "6          60    110       136     374.0\n",
            "7          45    104       134     253.3\n",
            "8          30    109       133     195.1\n",
            "9          60     98       124     269.0\n",
            "10         60    103       147     329.3\n",
            "11         60    100       120     250.7\n",
            "12         60    106       128     345.3\n",
            "13         60    104       132     379.3\n",
            "14         60     98       123     275.0\n",
            "15         60     98       120     215.2\n",
            "16         60    100       120     300.0\n",
            "18         60    103       123     323.0\n",
            "19         45     97       125     243.0\n",
            "20         60    108       131     364.2\n",
            "21         45    100       119     282.0\n",
            "22         60    130       101     300.0\n",
            "23         45    105       132     246.0\n",
            "24         60    102       126     334.5\n",
            "25         60    100       120     250.0\n",
            "26         60     92       118     241.0\n",
            "28         60    100       132     280.0\n",
            "29         60    102       129     380.3\n",
            "30         60     92       115     243.0\n",
            "31         45     90       112     180.1\n",
            "32         60    101       124     299.0\n",
            "33         60     93       113     223.0\n",
            "34         60    107       136     361.0\n",
            "35         60    114       140     415.0\n",
            "36         60    102       127     300.0\n",
            "37         60    100       120     300.0\n",
            "38         60    100       120     300.0\n",
            "39         45    104       129     266.0\n",
            "40         45     90       112     180.1\n",
            "41         60     98       126     286.0\n",
            "42         60    100       122     329.4\n",
            "43         60    111       138     400.0\n",
            "44         60    111       131     397.0\n",
            "45         60     99       119     273.0\n",
            "46         60    109       153     387.6\n",
            "47         45    111       136     300.0\n",
            "48         45    108       129     298.0\n",
            "49         60    111       139     397.6\n",
            "50         60    107       136     380.2\n",
            "51         80    123       146     643.1\n",
            "52         60    106       130     263.0\n",
            "53         60    118       151     486.0\n",
            "54         30    136       175     238.0\n",
            "55         60    121       146     450.7\n",
            "56         60    118       121     413.0\n",
            "57         45    115       144     305.0\n",
            "58         20    153       172     226.4\n",
            "59         45    123       152     321.0\n",
            "60        210    108       160    1376.0\n",
            "61        160    110       137    1034.4\n",
            "62        160    109       135     853.0\n",
            "63         45    118       141     341.0\n",
            "64         20    110       130     131.4\n",
            "65        180     90       130     800.4\n",
            "66        150    105       135     873.4\n",
            "67        150    107       130     816.0\n",
            "68         20    106       136     110.4\n",
            "69        300    108       143    1500.2\n",
            "70        150     97       129    1115.0\n",
            "71         60    109       153     387.6\n",
            "72         90    100       127     700.0\n",
            "73        150     97       127     953.2\n",
            "74         45    114       146     304.0\n",
            "75         90     98       125     563.2\n",
            "76         45    105       134     251.0\n",
            "77         45    110       141     300.0\n",
            "78        120    100       130     500.4\n",
            "79        270    100       131    1729.0\n",
            "80         30    159       182     319.2\n",
            "81         45    149       169     344.0\n",
            "82         30    103       139     151.1\n",
            "83        120    100       130     500.0\n",
            "84         45    100       120     225.3\n",
            "85         30    151       170     300.0\n",
            "86         45    102       136     234.0\n",
            "87        120    100       157    1000.1\n",
            "88         45    129       103     242.0\n",
            "89         20     83       107      50.3\n",
            "90        180    101       127     600.1\n",
            "92         30     90       107     105.3\n",
            "93         15     80       100      50.5\n",
            "94         20    150       171     127.4\n",
            "95         20    151       168     229.4\n",
            "96         30     95       128     128.2\n",
            "97         25    152       168     244.2\n",
            "98         30    109       131     188.2\n",
            "99         90     93       124     604.1\n",
            "100        20     95       112      77.7\n",
            "101        90     90       110     500.0\n",
            "102        90     90       100     500.0\n",
            "103        90     90       100     500.4\n",
            "104        30     92       108      92.7\n",
            "105        30     93       128     124.0\n",
            "106       180     90       120     800.3\n",
            "107        30     90       120      86.2\n",
            "108        90     90       120     500.3\n",
            "109       210    137       184    1860.4\n",
            "110        60    102       124     325.2\n",
            "111        45    107       124     275.0\n",
            "112        15    124       139     124.2\n",
            "113        45    100       120     225.3\n",
            "114        60    108       131     367.6\n",
            "115        60    108       151     351.7\n",
            "116        60    116       141     443.0\n",
            "117        60     97       122     277.4\n",
            "119        60    103       124     332.7\n",
            "120        30    112       137     193.9\n",
            "121        45    100       120     100.7\n",
            "122        60    119       169     336.7\n",
            "123        60    107       127     344.9\n",
            "124        60    111       151     368.5\n",
            "125        60     98       122     271.0\n",
            "126        60     97       124     275.3\n",
            "127        60    109       127     382.0\n",
            "128        90     99       125     466.4\n",
            "129        60    114       151     384.0\n",
            "130        60    104       134     342.5\n",
            "131        60    107       138     357.5\n",
            "132        60    103       133     335.0\n",
            "133        60    106       132     327.5\n",
            "134        60    103       136     339.0\n",
            "135        20    136       156     189.0\n",
            "136        45    117       143     317.7\n",
            "137        45    115       137     318.0\n",
            "138        45    113       138     308.0\n",
            "139        20    141       162     222.4\n",
            "140        60    108       135     390.0\n",
            "142        45    100       120     250.4\n",
            "143        45    122       149     335.4\n",
            "144        60    136       170     470.2\n",
            "145        45    106       126     270.8\n",
            "146        60    107       136     400.0\n",
            "147        60    112       146     361.9\n",
            "148        30    103       127     185.0\n",
            "149        60    110       150     409.4\n",
            "150        60    106       134     343.0\n",
            "151        60    109       129     353.2\n",
            "152        60    109       138     374.0\n",
            "153        30    150       167     275.8\n",
            "154        60    105       128     328.0\n",
            "155        60    111       151     368.5\n",
            "156        60     97       131     270.4\n",
            "157        60    100       120     270.4\n",
            "158        60    114       150     382.8\n",
            "159        30     80       120     240.9\n",
            "160        30     85       120     250.4\n",
            "161        45     90       130     260.4\n",
            "162        45     95       130     270.0\n",
            "163        45    100       140     280.9\n",
            "164        60    105       140     290.8\n",
            "165        60    110       145     300.0\n",
            "166        60    115       145     310.2\n",
            "167        75    120       150     320.4\n",
            "168        75    125       150     330.4\n"
          ]
        }
      ]
    },
    {
      "cell_type": "markdown",
      "source": [
        "while using \"dropna()\" does not change the orginal dataset . it only return the new data set. so if we want to change the data from orginal data set we need to use \"inplace=True\"\n",
        "\n",
        "---for example:\n",
        "\n"
      ],
      "metadata": {
        "id": "SZQE2eRePKMi"
      }
    },
    {
      "cell_type": "code",
      "source": [
        "import pandas as pd\n",
        "df=pd.read_csv('data.csv')\n",
        "df.dropna(inplace=True)\n",
        "print(df.to_string())"
      ],
      "metadata": {
        "colab": {
          "base_uri": "https://localhost:8080/"
        },
        "id": "GB9iR3LzPpfC",
        "outputId": "b2f194c6-4449-43ae-da30-7f7c30b6d7df"
      },
      "execution_count": null,
      "outputs": [
        {
          "output_type": "stream",
          "name": "stdout",
          "text": [
            "     Duration  Pulse  Maxpulse  Calories\n",
            "0          60    110       130     409.1\n",
            "1          60    117       145     479.0\n",
            "2          60    103       135     340.0\n",
            "3          45    109       175     282.4\n",
            "4          45    117       148     406.0\n",
            "5          60    102       127     300.0\n",
            "6          60    110       136     374.0\n",
            "7          45    104       134     253.3\n",
            "8          30    109       133     195.1\n",
            "9          60     98       124     269.0\n",
            "10         60    103       147     329.3\n",
            "11         60    100       120     250.7\n",
            "12         60    106       128     345.3\n",
            "13         60    104       132     379.3\n",
            "14         60     98       123     275.0\n",
            "15         60     98       120     215.2\n",
            "16         60    100       120     300.0\n",
            "18         60    103       123     323.0\n",
            "19         45     97       125     243.0\n",
            "20         60    108       131     364.2\n",
            "21         45    100       119     282.0\n",
            "22         60    130       101     300.0\n",
            "23         45    105       132     246.0\n",
            "24         60    102       126     334.5\n",
            "25         60    100       120     250.0\n",
            "26         60     92       118     241.0\n",
            "28         60    100       132     280.0\n",
            "29         60    102       129     380.3\n",
            "30         60     92       115     243.0\n",
            "31         45     90       112     180.1\n",
            "32         60    101       124     299.0\n",
            "33         60     93       113     223.0\n",
            "34         60    107       136     361.0\n",
            "35         60    114       140     415.0\n",
            "36         60    102       127     300.0\n",
            "37         60    100       120     300.0\n",
            "38         60    100       120     300.0\n",
            "39         45    104       129     266.0\n",
            "40         45     90       112     180.1\n",
            "41         60     98       126     286.0\n",
            "42         60    100       122     329.4\n",
            "43         60    111       138     400.0\n",
            "44         60    111       131     397.0\n",
            "45         60     99       119     273.0\n",
            "46         60    109       153     387.6\n",
            "47         45    111       136     300.0\n",
            "48         45    108       129     298.0\n",
            "49         60    111       139     397.6\n",
            "50         60    107       136     380.2\n",
            "51         80    123       146     643.1\n",
            "52         60    106       130     263.0\n",
            "53         60    118       151     486.0\n",
            "54         30    136       175     238.0\n",
            "55         60    121       146     450.7\n",
            "56         60    118       121     413.0\n",
            "57         45    115       144     305.0\n",
            "58         20    153       172     226.4\n",
            "59         45    123       152     321.0\n",
            "60        210    108       160    1376.0\n",
            "61        160    110       137    1034.4\n",
            "62        160    109       135     853.0\n",
            "63         45    118       141     341.0\n",
            "64         20    110       130     131.4\n",
            "65        180     90       130     800.4\n",
            "66        150    105       135     873.4\n",
            "67        150    107       130     816.0\n",
            "68         20    106       136     110.4\n",
            "69        300    108       143    1500.2\n",
            "70        150     97       129    1115.0\n",
            "71         60    109       153     387.6\n",
            "72         90    100       127     700.0\n",
            "73        150     97       127     953.2\n",
            "74         45    114       146     304.0\n",
            "75         90     98       125     563.2\n",
            "76         45    105       134     251.0\n",
            "77         45    110       141     300.0\n",
            "78        120    100       130     500.4\n",
            "79        270    100       131    1729.0\n",
            "80         30    159       182     319.2\n",
            "81         45    149       169     344.0\n",
            "82         30    103       139     151.1\n",
            "83        120    100       130     500.0\n",
            "84         45    100       120     225.3\n",
            "85         30    151       170     300.0\n",
            "86         45    102       136     234.0\n",
            "87        120    100       157    1000.1\n",
            "88         45    129       103     242.0\n",
            "89         20     83       107      50.3\n",
            "90        180    101       127     600.1\n",
            "92         30     90       107     105.3\n",
            "93         15     80       100      50.5\n",
            "94         20    150       171     127.4\n",
            "95         20    151       168     229.4\n",
            "96         30     95       128     128.2\n",
            "97         25    152       168     244.2\n",
            "98         30    109       131     188.2\n",
            "99         90     93       124     604.1\n",
            "100        20     95       112      77.7\n",
            "101        90     90       110     500.0\n",
            "102        90     90       100     500.0\n",
            "103        90     90       100     500.4\n",
            "104        30     92       108      92.7\n",
            "105        30     93       128     124.0\n",
            "106       180     90       120     800.3\n",
            "107        30     90       120      86.2\n",
            "108        90     90       120     500.3\n",
            "109       210    137       184    1860.4\n",
            "110        60    102       124     325.2\n",
            "111        45    107       124     275.0\n",
            "112        15    124       139     124.2\n",
            "113        45    100       120     225.3\n",
            "114        60    108       131     367.6\n",
            "115        60    108       151     351.7\n",
            "116        60    116       141     443.0\n",
            "117        60     97       122     277.4\n",
            "119        60    103       124     332.7\n",
            "120        30    112       137     193.9\n",
            "121        45    100       120     100.7\n",
            "122        60    119       169     336.7\n",
            "123        60    107       127     344.9\n",
            "124        60    111       151     368.5\n",
            "125        60     98       122     271.0\n",
            "126        60     97       124     275.3\n",
            "127        60    109       127     382.0\n",
            "128        90     99       125     466.4\n",
            "129        60    114       151     384.0\n",
            "130        60    104       134     342.5\n",
            "131        60    107       138     357.5\n",
            "132        60    103       133     335.0\n",
            "133        60    106       132     327.5\n",
            "134        60    103       136     339.0\n",
            "135        20    136       156     189.0\n",
            "136        45    117       143     317.7\n",
            "137        45    115       137     318.0\n",
            "138        45    113       138     308.0\n",
            "139        20    141       162     222.4\n",
            "140        60    108       135     390.0\n",
            "142        45    100       120     250.4\n",
            "143        45    122       149     335.4\n",
            "144        60    136       170     470.2\n",
            "145        45    106       126     270.8\n",
            "146        60    107       136     400.0\n",
            "147        60    112       146     361.9\n",
            "148        30    103       127     185.0\n",
            "149        60    110       150     409.4\n",
            "150        60    106       134     343.0\n",
            "151        60    109       129     353.2\n",
            "152        60    109       138     374.0\n",
            "153        30    150       167     275.8\n",
            "154        60    105       128     328.0\n",
            "155        60    111       151     368.5\n",
            "156        60     97       131     270.4\n",
            "157        60    100       120     270.4\n",
            "158        60    114       150     382.8\n",
            "159        30     80       120     240.9\n",
            "160        30     85       120     250.4\n",
            "161        45     90       130     260.4\n",
            "162        45     95       130     270.0\n",
            "163        45    100       140     280.9\n",
            "164        60    105       140     290.8\n",
            "165        60    110       145     300.0\n",
            "166        60    115       145     310.2\n",
            "167        75    120       150     320.4\n",
            "168        75    125       150     330.4\n"
          ]
        }
      ]
    },
    {
      "cell_type": "markdown",
      "source": [
        "in another method to clean empty cell is filling the the empty cell by using \"fillna()\"\n",
        "\n",
        "--- for example:\n",
        "\n",
        "\n"
      ],
      "metadata": {
        "id": "XRTBS0NGSlQ8"
      }
    },
    {
      "cell_type": "code",
      "source": [
        "import pandas as pd\n",
        "df=pd.read_csv('data.csv')\n",
        "df.fillna(145,inplace=True)\n",
        "print(df.head(20))"
      ],
      "metadata": {
        "colab": {
          "base_uri": "https://localhost:8080/"
        },
        "id": "pQ7RGliKS16f",
        "outputId": "8a28f89a-345f-4e42-e2b0-7d6568f4683c"
      },
      "execution_count": null,
      "outputs": [
        {
          "output_type": "stream",
          "name": "stdout",
          "text": [
            "    Duration  Pulse  Maxpulse  Calories\n",
            "0         60    110       130     409.1\n",
            "1         60    117       145     479.0\n",
            "2         60    103       135     340.0\n",
            "3         45    109       175     282.4\n",
            "4         45    117       148     406.0\n",
            "5         60    102       127     300.0\n",
            "6         60    110       136     374.0\n",
            "7         45    104       134     253.3\n",
            "8         30    109       133     195.1\n",
            "9         60     98       124     269.0\n",
            "10        60    103       147     329.3\n",
            "11        60    100       120     250.7\n",
            "12        60    106       128     345.3\n",
            "13        60    104       132     379.3\n",
            "14        60     98       123     275.0\n",
            "15        60     98       120     215.2\n",
            "16        60    100       120     300.0\n",
            "17        45     90       112     145.0\n",
            "18        60    103       123     323.0\n",
            "19        45     97       125     243.0\n"
          ]
        }
      ]
    },
    {
      "cell_type": "markdown",
      "source": [
        "to fill the data into empty cell:"
      ],
      "metadata": {
        "id": "Tl-QjvHNTUoI"
      }
    },
    {
      "cell_type": "code",
      "source": [
        "import pandas as pd\n",
        "pd=pd.read_csv('data.csv')\n",
        "pd.fillna({\"Calories\":145},inplace=True)\n",
        "print(pd.head(20))"
      ],
      "metadata": {
        "colab": {
          "base_uri": "https://localhost:8080/"
        },
        "id": "QjGIYLIzTc3p",
        "outputId": "2f39180c-5861-4fa0-eb56-cc365dc9bebe"
      },
      "execution_count": null,
      "outputs": [
        {
          "output_type": "stream",
          "name": "stdout",
          "text": [
            "    Duration  Pulse  Maxpulse  Calories\n",
            "0         60    110       130     409.1\n",
            "1         60    117       145     479.0\n",
            "2         60    103       135     340.0\n",
            "3         45    109       175     282.4\n",
            "4         45    117       148     406.0\n",
            "5         60    102       127     300.0\n",
            "6         60    110       136     374.0\n",
            "7         45    104       134     253.3\n",
            "8         30    109       133     195.1\n",
            "9         60     98       124     269.0\n",
            "10        60    103       147     329.3\n",
            "11        60    100       120     250.7\n",
            "12        60    106       128     345.3\n",
            "13        60    104       132     379.3\n",
            "14        60     98       123     275.0\n",
            "15        60     98       120     215.2\n",
            "16        60    100       120     300.0\n",
            "17        45     90       112     145.0\n",
            "18        60    103       123     323.0\n",
            "19        45     97       125     243.0\n"
          ]
        }
      ]
    },
    {
      "cell_type": "markdown",
      "source": [
        "in another way is filling the empty is cells is usning mean, mode, median\n",
        "\n",
        "\n",
        "*   Mean- where data is numerical without any outliers or skewness\n",
        "*   Median- use where , data is numerical with outliers and skewness\n",
        "*   Mode- use where, data are categorical\n",
        "\n",
        "--- for some pro tips\n",
        "\n",
        "\n",
        "\n",
        "\n",
        "*   Ouliers: outlier is a data point that different from other data points\n",
        "*   skewness: tells the are is symmentrica or asymmentrical\n",
        "\n",
        "\n",
        "\n",
        "\n",
        "\n"
      ],
      "metadata": {
        "id": "fukRYc-wbrz-"
      }
    },
    {
      "cell_type": "code",
      "source": [
        "# to check Skewness\n",
        "import pandas as pd\n",
        "df=pd.read_csv('data.csv')\n",
        "print(df.skew())"
      ],
      "metadata": {
        "colab": {
          "base_uri": "https://localhost:8080/"
        },
        "id": "JKOgEK0sdW6B",
        "outputId": "a669813b-677d-4e93-e4ab-5dc5daa11cfc"
      },
      "execution_count": 3,
      "outputs": [
        {
          "output_type": "stream",
          "name": "stdout",
          "text": [
            "Duration    2.863888\n",
            "Pulse       1.418405\n",
            "Maxpulse    0.701439\n",
            "Calories    3.102189\n",
            "dtype: float64\n"
          ]
        }
      ]
    },
    {
      "cell_type": "markdown",
      "source": [
        "explanation of the result:\n",
        "\n",
        "\n",
        "*   skewwness measurement:\n",
        "\n",
        "*   =0 means : normal distribution and symmentric\n",
        "\n",
        "*   < -0.5 : left skewness\n",
        "*   >0.5 : right skewness\n",
        "so here:\n",
        "\n",
        "--- Duration is more than 0.5 so it has right skew\n",
        "\n",
        "---pulse is more than 0.5 so, it has right skew\n",
        "\n",
        "--- Maxppulse also moretham 0.5 so it had right skew\n",
        "\n",
        "\n",
        "---calories also have right kew\n",
        "\n",
        "\n",
        "\n",
        "\n",
        "\n",
        "\n",
        "\n",
        "\n",
        "\n",
        "\n",
        "\n",
        "\n",
        "\n",
        "\n",
        "\n",
        "\n",
        "\n",
        "\n",
        "\n"
      ],
      "metadata": {
        "id": "i6dPSDv0hE-q"
      }
    },
    {
      "cell_type": "markdown",
      "source": [
        "now going to find outliers . there are two type commonly use outliers:"
      ],
      "metadata": {
        "id": "WSL3ViTxjfOo"
      }
    },
    {
      "cell_type": "code",
      "source": [
        "# method 1 by using IQR method\n",
        "import pandas as pd\n",
        "df=pd.read_csv('data.csv')\n",
        "col=df['Calories']\n",
        "q1=col.quantile(0.25)\n",
        "q3=col.quantile(0.75)\n",
        "IQR=q3-q1\n",
        "Lower= q1-1.5*IQR #(1.5 is common value whilw findig the outliers)\n",
        "upper=q3+1.5*IQR\n",
        "new=col[(col<Lower)|col>(upper)]\n",
        "print(new)"
      ],
      "metadata": {
        "colab": {
          "base_uri": "https://localhost:8080/"
        },
        "id": "PGoi1wHIjbhZ",
        "outputId": "a6e6a8c9-aa10-49ca-eb4d-f91449700f99"
      },
      "execution_count": 8,
      "outputs": [
        {
          "output_type": "stream",
          "name": "stdout",
          "text": [
            "Series([], Name: likes, dtype: int64)\n"
          ]
        }
      ]
    },
    {
      "cell_type": "markdown",
      "source": [
        "from abuve the code there is no outliers by using IQR method"
      ],
      "metadata": {
        "id": "p6TCdNg7na_c"
      }
    },
    {
      "cell_type": "code",
      "source": [
        "# secound methoad to find outliers using plots\n",
        "import pandas as pd\n",
        "import matplotlib.pyplot as plots\n",
        "df=pd.read_csv('posts.csv')\n",
        "plt.boxplot(df['likes'])\n",
        "plt.show()"
      ],
      "metadata": {
        "colab": {
          "base_uri": "https://localhost:8080/",
          "height": 430
        },
        "id": "InmMpYT1oF8F",
        "outputId": "1f1a04ad-802d-465b-d265-1e019bb959a8"
      },
      "execution_count": 15,
      "outputs": [
        {
          "output_type": "display_data",
          "data": {
            "text/plain": [
              "<Figure size 640x480 with 1 Axes>"
            ],
            "image/png": "[encoded data removed]"
          },
          "metadata": {}
        }
      ]
    },
    {
      "cell_type": "markdown",
      "source": [
        "from the above output , that shows it has some missing values and its have outliers and right skewnss so best way to fill the empty cells is using MEDIAN methoad"
      ],
      "metadata": {
        "id": "GvDA-UMjqMLA"
      }
    },
    {
      "cell_type": "code",
      "source": [
        "import pandas as pd\n",
        "df=pd.read_csv('data.csv')\n",
        "x=df[\"Calories\"].median() # this the mean and mode same way\n",
        "df.fillna({'Calories': x},inplace=True)\n",
        "print(df.head(20))"
      ],
      "metadata": {
        "colab": {
          "base_uri": "https://localhost:8080/"
        },
        "id": "Z1Y95AMOqnZZ",
        "outputId": "40212463-e7bf-48ee-fb80-1311769e372a"
      },
      "execution_count": 21,
      "outputs": [
        {
          "output_type": "stream",
          "name": "stdout",
          "text": [
            "    Duration  Pulse  Maxpulse  Calories\n",
            "0         60    110       130     409.1\n",
            "1         60    117       145     479.0\n",
            "2         60    103       135     340.0\n",
            "3         45    109       175     282.4\n",
            "4         45    117       148     406.0\n",
            "5         60    102       127     300.0\n",
            "6         60    110       136     374.0\n",
            "7         45    104       134     253.3\n",
            "8         30    109       133     195.1\n",
            "9         60     98       124     269.0\n",
            "10        60    103       147     329.3\n",
            "11        60    100       120     250.7\n",
            "12        60    106       128     345.3\n",
            "13        60    104       132     379.3\n",
            "14        60     98       123     275.0\n",
            "15        60     98       120     215.2\n",
            "16        60    100       120     300.0\n",
            "17        45     90       112     318.6\n",
            "18        60    103       123     323.0\n",
            "19        45     97       125     243.0\n"
          ]
        }
      ]
    }
  ]
}