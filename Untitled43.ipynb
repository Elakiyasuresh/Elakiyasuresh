{
  "nbformat": 4,
  "nbformat_minor": 0,
  "metadata": {
    "colab": {
      "provenance": [],
      "authorship_tag": "ABX9TyOz38GzIoNeJMS6mFI1V5o8",
      "include_colab_link": true
    },
    "kernelspec": {
      "name": "python3",
      "display_name": "Python 3"
    },
    "language_info": {
      "name": "python"
    }
  },
  "cells": [
    {
      "cell_type": "markdown",
      "metadata": {
        "id": "view-in-github",
        "colab_type": "text"
      },
      "source": [
        "<a href=\"https://colab.research.google.com/github/Elakiyasuresh/Elakiyasuresh/blob/main/Untitled43.ipynb\" target=\"_parent\"><img src=\"https://colab.research.google.com/assets/colab-badge.svg\" alt=\"Open In Colab\"/></a>"
      ]
    },
    {
      "cell_type": "code",
      "execution_count": null,
      "metadata": {
        "id": "0dYvg_bM9Wyo"
      },
      "outputs": [],
      "source": [
        "import pandas as pd\n",
        "import numpy as np\n",
        "import matplotlib.pyplot as plt\n",
        "from sklearn.ensemble import RandomForestRegressor\n",
        "from sklearn.model_selection import train_test_split\n",
        "from sklearn.metrics import mean_squared_error\n",
        "\n",
        "# Step 1: Create Synthetic Dataset\n",
        "np.random.seed(42)\n",
        "\n",
        "def create_synthetic_sales_data(n_days=365 * 3):\n",
        "    dates = pd.date_range(start=\"2019-01-01\", periods=n_days, freq=\"D\")\n",
        "    sales = (\n",
        "        50  # baseline sales\n",
        "        + 10 * (np.sin(2 * np.pi * dates.dayofyear / 365))  # seasonal effect\n",
        "        + np.where(dates.weekday < 5, 20, -5)  # higher sales on weekdays\n",
        "        + np.random.normal(0, 5, n_days)  # noise\n",
        "    )\n",
        "    is_holiday = np.random.choice([0, 1], size=n_days, p=[0.9, 0.1])\n",
        "    sales += is_holiday * 15  # sales boost on holidays\n",
        "\n",
        "    data = pd.DataFrame({\n",
        "        \"date\": dates,\n",
        "        \"sales\": sales,\n",
        "        \"day_of_week\": dates.weekday,\n",
        "        \"is_holiday\": is_holiday,\n",
        "        \"year\": dates.year,\n",
        "        \"month\": dates.month,\n",
        "        \"day\": dates.day,\n",
        "    })\n",
        "    return data\n",
        "\n",
        "data = create_synthetic_sales_data()\n",
        "\n",
        "# Step 2: Visualize the Dataset\n",
        "plt.figure(figsize=(10, 6))\n",
        "plt.plot(data[\"date\"], data[\"sales\"], label=\"Sales\")\n",
        "plt.title(\"Synthetic Sales Data\")\n",
        "plt.xlabel(\"Date\")\n",
        "plt.ylabel(\"Sales\")\n",
        "plt.legend()\n",
        "plt.show()\n",
        "\n",
        "# Step 3: Feature Engineering\n",
        "data[\"lag_1\"] = data[\"sales\"].shift(1)\n",
        "data[\"lag_7\"] = data[\"sales\"].shift(7)\n",
        "data[\"rolling_mean_7\"] = data[\"sales\"].rolling(window=7).mean()\n",
        "data[\"rolling_std_7\"] = data[\"sales\"].rolling(window=7).std()\n",
        "data = data.dropna()\n",
        "\n",
        "# Step 4: Train-Test Split\n",
        "X = data[[\"day_of_week\", \"is_holiday\", \"lag_1\", \"lag_7\", \"rolling_mean_7\", \"rolling_std_7\"]]\n",
        "y = data[\"sales\"]\n",
        "X_train, X_test, y_train, y_test = train_test_split(X, y, test_size=0.2, random_state=42)\n",
        "\n",
        "# Step 5: Model Training\n",
        "model = RandomForestRegressor(n_estimators=100, random_state=42)\n",
        "model.fit(X_train, y_train)\n",
        "\n",
        "# Step 6: Predictions\n",
        "y_pred = model.predict(X_test)\n",
        "\n",
        "# Step 7: Evaluation\n",
        "mse = mean_squared_error(y_test, y_pred)\n",
        "print(f\"Mean Squared Error: {mse:.2f}\")\n",
        "\n",
        "# Plot Actual vs Predicted\n",
        "plt.figure(figsize=(10, 6))\n",
        "plt.plot(y_test.values[:100], label=\"Actual Sales\", marker=\"o\")\n",
        "plt.plot(y_pred[:100], label=\"Predicted Sales\", marker=\"x\")\n",
        "plt.title(\"Actual vs Predicted Sales\")\n",
        "plt.xlabel(\"Time Index\")\n",
        "plt.ylabel(\"Sales\")\n",
        "plt.legend()\n",
        "plt.show()"
      ]
    }
  ]
}